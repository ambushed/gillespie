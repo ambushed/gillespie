{
 "cells": [
  {
   "cell_type": "markdown",
   "metadata": {},
   "source": [
    "ToDo:\n",
    "\n",
    "1. Improve the code: from lists to nparrays\n",
    "2. Understand how to deal with $\\gamma$ in LV\n",
    "3. Fill in some theory on Gillespie"
   ]
  },
  {
   "cell_type": "code",
   "execution_count": 1,
   "metadata": {
    "collapsed": false
   },
   "outputs": [
    {
     "name": "stdout",
     "output_type": "stream",
     "text": [
      "Populating the interactive namespace from numpy and matplotlib\n",
      "\n",
      "#######################################################################\n",
      "#                                                                     #\n",
      "#            Welcome to the interactive StochPy environment           #\n",
      "#                                                                     #\n",
      "#######################################################################\n",
      "#  StochPy: Stochastic modeling in Python                             #\n",
      "#  http://stochpy.sourceforge.net                                     #\n",
      "#  Copyright(C) T.R Maarleveld, B.G. Olivier, F.J Bruggeman 2010-2015 #\n",
      "#  DOI: 10.1371/journal.pone.0079345                                  #\n",
      "#  Email: tmd200@users.sourceforge.net                                #\n",
      "#  VU University, Amsterdam, Netherlands                              #\n",
      "#  Centrum Wiskunde Informatica, Amsterdam, Netherlands               #\n",
      "#  StochPy is distributed under the BSD licence.                      #\n",
      "#######################################################################\n",
      "\n",
      "Version 2.3.0\n",
      "Output Directory: /Users/Vlad/Stochpy\n",
      "Model Directory: /Users/Vlad/Stochpy/pscmodels\n"
     ]
    }
   ],
   "source": [
    "#!python\n",
    "%pylab inline\n",
    "\n",
    "from numpy import *\n",
    "from scipy import integrate\n",
    "\n",
    "import random\n",
    "import numpy as np\n",
    "import pylab as pp\n",
    "import math\n",
    "import stochpy\n",
    "from Gillespie import Gillespie \n",
    "from GillespieSetup import Setup\n",
    "\n",
    "StochPyDir = \"/Users/Vlad/Code/StochPy-2.3\""
   ]
  },
  {
   "cell_type": "markdown",
   "metadata": {},
   "source": [
    "# Reaction Diffusion"
   ]
  },
  {
   "cell_type": "markdown",
   "metadata": {},
   "source": [
    "The classic deterministic description of the reaction diffusion problem is given by a system of ODEs:\n",
    "\n",
    "$\\frac{da}{dt} = -2k_1a^2-k_2ab+k_3 \\\\\n",
    "\\frac{db}{dt} = -k_2ab+k_4$\n",
    "\n",
    "In code, we have:"
   ]
  },
  {
   "cell_type": "code",
   "execution_count": 2,
   "metadata": {
    "collapsed": false
   },
   "outputs": [
    {
     "data": {
      "text/plain": [
       "<matplotlib.text.Text at 0x108685490>"
      ]
     },
     "execution_count": 2,
     "metadata": {},
     "output_type": "execute_result"
    },
    {
     "data": {
      "image/png": "[encoded data removed]",
      "text/plain": [
       "<matplotlib.figure.Figure at 0x108263810>"
      ]
     },
     "metadata": {},
     "output_type": "display_data"
    }
   ],
   "source": [
    "# Definition of parameters\n",
    "k1 = 0.001\n",
    "k2 = 0.01\n",
    "k3 = 1.2\n",
    "k4 = 1\n",
    "\n",
    "def dX_dt(X, t=0):\n",
    "    \"\"\" Return the growth rate the count of molecules A and B . \"\"\"\n",
    "    return array([ -2.0*k1*X[0]*X[0] -   k2*X[0]*X[1] + k3 ,\n",
    "                   -k2*X[0]*X[1] + k4])\n",
    "\n",
    "t = linspace(0, 100,  1000)  # time\n",
    "X0 = array([0, 0])    # initials conditions: 0 count of molecules A and B\n",
    "X, infodict = integrate.odeint(dX_dt, X0, t, full_output=True)\n",
    "infodict['message']                     # >>> 'Integration successful.'\n",
    "moleculeA, moleculeB = X.T\n",
    "f1 = pp.figure()\n",
    "pp.plot(t, moleculeA, 'r-', label='Molecule A')\n",
    "pp.plot(t, moleculeB, 'b-', label='Molecule B')\n",
    "pp.grid()\n",
    "pp.legend(loc='best')\n",
    "pp.xlabel('time')\n",
    "pp.ylabel('Molecule count')\n",
    "pp.title('Solution of the reaction diffusion problem')"
   ]
  },
  {
   "cell_type": "markdown",
   "metadata": {},
   "source": [
    "##Stochastic Formulation\n",
    "\n",
    "If we were to use stochastic simulation to solve the problem above, the following system of four chemical equations would need to be introduced:\n",
    "\n",
    "$A + A \\xrightarrow{k_1} \\emptyset$\n",
    "\n",
    "$A + B \\xrightarrow{k_2} \\emptyset$\n",
    "\n",
    "$\\emptyset\\xrightarrow{k_3}A$\n",
    "\n",
    "$\\emptyset\\xrightarrow{k_4}B$\n",
    "\n",
    "With corresponding propensity functions:\n",
    "\n",
    "\n",
    "###StochPy implementation\n",
    "\n",
    "StochPy uses PySCeS Model Description Language (MDL) to describe the simulated system.  Such descriptions are contained in ASCII text based input files with extention .psc.  One such file that would describe the Reaction diffusion system stated above would contain the following text:"
   ]
  },
  {
   "cell_type": "raw",
   "metadata": {},
   "source": [
    "# Reactions\n",
    "R1:\n",
    "        X + X > $pool\n",
    "        c1*X*(X-1)\n",
    "R2:\n",
    "        X + Y > $pool\n",
    "        c2*X*Y\n",
    "R3:\n",
    "        $pool > X\n",
    "        c3\n",
    "R4:\n",
    "        $pool > Y\n",
    "        c4\n",
    "\n",
    "# InitPar\n",
    "c1 = 0.001\n",
    "c2 = 0.01\n",
    "c3 = 1.2\n",
    "c4 = 1\n",
    "\n",
    "# InitVar\n",
    "X = 0\n",
    "Y = 0"
   ]
  },
  {
   "cell_type": "markdown",
   "metadata": {},
   "source": [
    "The problem definition above can be interpreted as follows:\n",
    "* if two molecules $X$ react, they both perish with rate $c1$\n",
    "* if molecule $X$ reacts with $Y$, they both perish with rate $c2$\n",
    "* Molecule $X$ is created with rate $c3$\n",
    "* Molecule $Y$ is created with rate $c4$\n",
    "\n",
    "This can be quantified in the following matrix of increments:\n",
    "\n",
    "$\n",
    "\\left[\\begin{smallmatrix}\\Delta X\\\\\\Delta Y\\end{smallmatrix}\\right]=\n",
    "\\left[\\begin{smallmatrix}-2 & -1 & 1 & 0\\\\0 & -1 & 0 & 1\\end{smallmatrix}\\right]\n",
    "$\n",
    "\n",
    "where column values to increments in numbers corresponding to reaction that has occured and rows relate to the molecule count being updated."
   ]
  },
  {
   "cell_type": "code",
   "execution_count": 3,
   "metadata": {
    "collapsed": false
   },
   "outputs": [
    {
     "name": "stdout",
     "output_type": "stream",
     "text": [
      "*** WARNING ***: No regular grid is created yet. Use GetRegularGrid(n_samples) if averaged results are unsatisfactory (e.g. more or less 'samples')\n"
     ]
    },
    {
     "data": {
      "text/plain": [
       "<class stochpy.implementations.DirectMethod.DirectMethod at 0x108073460>"
      ]
     },
     "execution_count": 3,
     "metadata": {},
     "output_type": "execute_result"
    },
    {
     "data": {
      "image/png": "[encoded data removed]",
      "text/plain": [
       "<matplotlib.figure.Figure at 0x10824ebd0>"
      ]
     },
     "metadata": {},
     "output_type": "display_data"
    }
   ],
   "source": [
    "smod = stochpy.SSA()\n",
    "smod.Model(model_file=\"ReactionDiffusion.psc\",dir=StochPyDir)\n",
    "smod.DoStochSim(trajectories = 300,mode=\"time\",end=100)\n",
    "smod.PlotAverageSpeciesTimeSeries()\n",
    "smod.sim_method"
   ]
  },
  {
   "cell_type": "markdown",
   "metadata": {},
   "source": [
    "### Implementation of Gillespie Algorithm:"
   ]
  },
  {
   "cell_type": "code",
   "execution_count": 4,
   "metadata": {
    "collapsed": true
   },
   "outputs": [],
   "source": [
    "import numpy as np\n",
    "import numpy.random as nprandom\n",
    "\n",
    "def generateR1():\n",
    "    while True:\n",
    "        r1 = nprandom.random(1000)\n",
    "        logR1 = np.log(r1)*-1\n",
    "        for r in logR1:\n",
    "            yield r\n",
    "\n",
    "def generateR2():\n",
    "    while True:\n",
    "        r2 = nprandom.random(1000)\n",
    "        for r in r2:\n",
    "            yield r\n",
    "            \n",
    "g1 = generateR1()\n",
    "g2 = generateR2()"
   ]
  },
  {
   "cell_type": "markdown",
   "metadata": {},
   "source": [
    "### Gillespie for Reaction Diffusion"
   ]
  },
  {
   "cell_type": "code",
   "execution_count": 5,
   "metadata": {
    "collapsed": false
   },
   "outputs": [
    {
     "data": {
      "image/png": "[encoded data removed]",
      "text/plain": [
       "<matplotlib.figure.Figure at 0x1088d1c10>"
      ]
     },
     "metadata": {},
     "output_type": "display_data"
    }
   ],
   "source": [
    "setup = Setup(yaml_file_name=\"reaction_diffusion.yaml\")\n",
    "propensities = setup.get_propensity_list()\n",
    "parameters = setup.get_parameter_list()\n",
    "species = setup.get_species()\n",
    "incr = setup.get_increments()\n",
    "nPaths = setup.get_number_of_paths()\n",
    "T = setup.get_time_horizon()\n",
    "\n",
    "rd_gillespie = Gillespie(a=species[0],b=species[1],propensities=propensities,increments=incr)\n",
    "tau,aMean,bMean = rd_gillespie.run_simulation(nPaths=nPaths,parameters=parameters, T=T, gen1=g1, gen2=g2)\n",
    "plt.plot(tau,aMean)\n",
    "plt.plot(tau,bMean)\n",
    "plt.show()"
   ]
  },
  {
   "cell_type": "markdown",
   "metadata": {},
   "source": [
    "# Lotka Volterra"
   ]
  },
  {
   "cell_type": "markdown",
   "metadata": {},
   "source": [
    "### Deterministic formulation\n",
    "\n",
    "System of 1-st order, non-linear differential equations.\n",
    "\n",
    "$\\frac{dX}{dt}=\\alpha X - \\beta XY$\n",
    "\n",
    "$\\frac{dY}{dt}=-\\delta Y +\\gamma\\beta XY$ \n",
    "\n",
    "The following example has been taken from :\n",
    "http://scipy-cookbook.readthedocs.org/items/LoktaVolterraTutorial.html\n",
    "\n",
    "The code below has been reparameterized w.r.t to the link above in the process of experimentation."
   ]
  },
  {
   "cell_type": "code",
   "execution_count": null,
   "metadata": {
    "collapsed": false
   },
   "outputs": [],
   "source": [
    "from scipy import integrate\n",
    "\n",
    "a = 2\n",
    "b = 0.002\n",
    "c = 1\n",
    "d = 1\n",
    "\n",
    "def dX_dt(X, t=0):\n",
    "    \"\"\" Return the growth rate of fox and rabbit populations. \"\"\"\n",
    "    return array([ a*X[0] - b*X[0]*X[1] ,\n",
    "                  -c*X[1] + b*d*X[0]*X[1] ])\n",
    "\n",
    "t = linspace(0, 15,  1000)  # time\n",
    "X0 = array([1000, 500])  # initials conditions: 1000 rabbits and 500 foxes\n",
    "X, infodict = integrate.odeint(dX_dt, X0, t, full_output=True)\n",
    "infodict['message']                     # >>> 'Integration successful.'\n",
    "foxes,rabbits = X.T\n",
    "f1 = pp.figure()\n",
    "pp.plot(t, rabbits, 'r-', label='Rabbits')\n",
    "pp.plot(t, foxes  , 'b-', label='Foxes')\n",
    "pp.grid()\n",
    "pp.legend(loc='best')\n",
    "pp.xlabel('time')\n",
    "pp.ylabel('population')\n",
    "pp.title('Evolution of fox and rabbit populations')"
   ]
  },
  {
   "cell_type": "markdown",
   "metadata": {},
   "source": [
    "### Stochastic Formulation"
   ]
  },
  {
   "cell_type": "markdown",
   "metadata": {},
   "source": [
    "Rate equations:\n",
    "\n",
    "Birth of rabbit:\n",
    "\n",
    "$X \\xrightarrow{c_1} X + 1$\n",
    "\n",
    "Birth of owl after as a result of eating rabbit:\n",
    "\n",
    "$X + Y \\xrightarrow{c_2} Y + 1$\n",
    "\n",
    "Death of predator\n",
    "\n",
    "$Y \\xrightarrow{c_3} \\emptyset$ \n",
    "\n",
    "Rabbit is eaten by an owl:\n",
    "\n",
    "$X + Y \\xrightarrow{c_4} X - 1$"
   ]
  },
  {
   "cell_type": "markdown",
   "metadata": {},
   "source": [
    "### StochPy Implementation\n",
    "\n",
    "The closest i could come up to StochPy definition of the system above is the following:"
   ]
  },
  {
   "cell_type": "raw",
   "metadata": {},
   "source": [
    "#Reactions\n",
    "R1:\n",
    "\t$pool > X\n",
    "\tc1*X\n",
    "R2:\n",
    "\tX+Y > Y + Y\t\n",
    "\tc2*X*Y\n",
    "R3:\n",
    "\tY>$pool\n",
    "\tc3*Y\n",
    "\n",
    "# InitPar\n",
    "c1 = 2\n",
    "c2 = 0.002\n",
    "c3 = 1\n",
    "\n",
    "# InitVar\n",
    "X = 1000\n",
    "Y = 500"
   ]
  },
  {
   "cell_type": "markdown",
   "metadata": {},
   "source": [
    "Mapping from intuitive rate equation definition to PSC equivalent proved a bit less intuitive than for the reaction-diffusion counterpart.  \n",
    "\n",
    "* if reaction $R1$ occurs, one mouse is born with rate $c1$\n",
    "* when mouse meets an owl, the outcome is a birth of an owl at the expense of one mouse with rate $c2$\n",
    "* one owl dies with absense of mice with rate $c3$\n",
    "\n",
    "This maps to a Lotka Volterra system of differential equations when $\\gamma=1$.  I haven't figured out how to modify the specification of LV system for $\\gamma\\ne1$.  \n",
    "\n",
    "This can be quantified in the following matrix of increments:\n",
    "\n",
    "$\n",
    "\\left[\\begin{smallmatrix}\\Delta X\\\\\\Delta Y\\end{smallmatrix}\\right]=\n",
    "\\left[\\begin{smallmatrix}1 & -1 & 0\\\\0 & 1 & 1\\end{smallmatrix}\\right]\n",
    "$\n",
    "\n",
    "This matrix is what the model builder in StochPy produces after parsing the stoichiometry expressions for reactions 1-4. The underlying logic is:\n",
    "\n",
    "1.  Register reactants on the left side of $\\gt$ sign as negative units\n",
    "1.  Register reactants on the right side of $\\gt$ sign as positive units\n",
    "1.  Net the left side with the right side\n",
    "1.  Count \\$pool as $0$"
   ]
  },
  {
   "cell_type": "code",
   "execution_count": null,
   "metadata": {
    "collapsed": false
   },
   "outputs": [],
   "source": [
    "smod = stochpy.SSA()\n",
    "smod.Model(model_file=\"LotkaVolterra.psc\",dir=StochPyDir)\n",
    "smod.DoStochSim(trajectories = 10,mode=\"time\",end=15)\n",
    "#smod.DoCompleteStochSim()\n",
    "smod.PlotAverageSpeciesTimeSeries()\n",
    "#smod.PlotSpeciesDistributions()\n",
    "smod.sim_method"
   ]
  },
  {
   "cell_type": "markdown",
   "metadata": {},
   "source": [
    "### Own Implementation"
   ]
  },
  {
   "cell_type": "code",
   "execution_count": 5,
   "metadata": {
    "collapsed": false
   },
   "outputs": [
    {
     "data": {
      "image/png": "[encoded data removed]",
      "text/plain": [
       "<matplotlib.figure.Figure at 0x103778e50>"
      ]
     },
     "metadata": {},
     "output_type": "display_data"
    }
   ],
   "source": [
    "setup = Setup(yaml_file_name=\"lotka_volterra.yaml\")\n",
    "propensities = setup.get_propensity_list()\n",
    "parameters = setup.get_parameter_list()\n",
    "species = setup.get_species()\n",
    "incr = setup.get_increments()\n",
    "nPaths = setup.get_number_of_paths()\n",
    "T = setup.get_time_horizon()\n",
    "\n",
    "my_gillespie = Gillespie(a=species[0],b=species[1],propensities=propensities,increments=incr)\n",
    "tau,aMean,bMean = my_gillespie.run_simulation(nPaths=10,parameters=parameters,T=15, gen1=g1, gen2=g2)\n",
    "plt.plot(tau,aMean)\n",
    "plt.plot(tau,bMean)\n",
    "plt.show()"
   ]
  },
  {
   "cell_type": "code",
   "execution_count": null,
   "metadata": {
    "collapsed": true
   },
   "outputs": [],
   "source": [
    ""
   ]
  }
 ],
 "metadata": {
  "kernelspec": {
   "display_name": "Python 2",
   "language": "python",
   "name": "python2"
  },
  "language_info": {
   "codemirror_mode": {
    "name": "ipython",
    "version": 2.0
   },
   "file_extension": ".py",
   "mimetype": "text/x-python",
   "name": "python",
   "nbconvert_exporter": "python",
   "pygments_lexer": "ipython2",
   "version": "2.7.11"
  },
  "latex_envs": {
   "bibliofile": "biblio.bib",
   "cite_by": "apalike",
   "current_citInitial": 1.0,
   "eqLabelWithNumbers": true,
   "eqNumInitial": 0.0
  },
  "toc": {
   "toc_cell": false,
   "toc_number_sections": true,
   "toc_threshold": 6.0,
   "toc_window_display": false
  }
 },
 "nbformat": 4,
 "nbformat_minor": 0
}